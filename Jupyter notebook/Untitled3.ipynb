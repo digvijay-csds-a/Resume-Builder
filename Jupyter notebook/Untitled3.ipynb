{
 "cells": [
  {
   "cell_type": "code",
   "execution_count": 1,
   "id": "d5ad5b02",
   "metadata": {},
   "outputs": [
    {
     "name": "stdout",
     "output_type": "stream",
     "text": [
      "Note: you may need to restart the kernel to use updated packages.\n"
     ]
    },
    {
     "name": "stderr",
     "output_type": "stream",
     "text": [
      "ERROR: You must give at least one requirement to install (see \"pip help install\")\n"
     ]
    }
   ],
   "source": [
    "pip install\n"
   ]
  },
  {
   "cell_type": "code",
   "execution_count": 1,
   "id": "7f7572ad",
   "metadata": {},
   "outputs": [
    {
     "name": "stdout",
     "output_type": "stream",
     "text": [
      "Requirement already satisfied: pygame in c:\\users\\ankit yadav\\anaconda3\\lib\\site-packages (2.4.0)\n",
      "Note: you may need to restart the kernel to use updated packages.\n"
     ]
    }
   ],
   "source": [
    "pip install pygame"
   ]
  },
  {
   "cell_type": "code",
   "execution_count": null,
   "id": "037e3b61",
   "metadata": {},
   "outputs": [],
   "source": [
    "import pygame\n",
    "\n",
    "pygame.init()\n",
    "\n",
    "\n",
    "width = 1000\n",
    "\n",
    "height = 600\n",
    "screen_res = (width, height)\n",
    "\n",
    "pygame.display.set_caption(\"GFG Bouncing game\")\n",
    "screen = pygame.display.set_mode(screen_res)\n",
    "\n",
    "red = (255, 0, 0)\n",
    "black = (0, 0, 0)\n",
    "\n",
    "\n",
    "ball_obj = pygame.draw.circle(\n",
    "\tsurface=screen, color=green, center=[100, 100], radius=40)\n",
    "\n",
    "speed = [1, 1]\n",
    "while True:\n",
    "\t\n",
    "\tfor event in pygame.event.get():\n",
    "\t\t\n",
    "\t\tif event.type == pygame.QUIT:\n",
    "\t\t\texit()\n",
    "\n",
    "\t\n",
    "\tscreen.fill(black)\n",
    "\n",
    "\tball_obj = ball_obj.move(speed)\n",
    "\n",
    "\tif ball_obj.left <= 0 or ball_obj.right >= width:\n",
    "\t\tspeed[0] = -speed[0]\n",
    "\tif ball_obj.top <= 0 or ball_obj.bottom >= height:\n",
    "\t\tspeed[1] = -speed[1]\n",
    "\tpygame.draw.circle(surface=screen, color=green,\n",
    "           center=ball_obj.center, radius=40)\n",
    "\n",
    "    pygame.display.flip()\n"
   ]
  },
  {
   "cell_type": "code",
   "execution_count": null,
   "id": "d71b9513",
   "metadata": {},
   "outputs": [],
   "source": []
  }
 ],
 "metadata": {
  "kernelspec": {
   "display_name": "Python 3 (ipykernel)",
   "language": "python",
   "name": "python3"
  },
  "language_info": {
   "codemirror_mode": {
    "name": "ipython",
    "version": 3
   },
   "file_extension": ".py",
   "mimetype": "text/x-python",
   "name": "python",
   "nbconvert_exporter": "python",
   "pygments_lexer": "ipython3",
   "version": "3.10.9"
  }
 },
 "nbformat": 4,
 "nbformat_minor": 5
}
