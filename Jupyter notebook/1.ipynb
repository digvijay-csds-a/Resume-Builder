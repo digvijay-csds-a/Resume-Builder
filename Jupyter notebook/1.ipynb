{
 "cells": [
  {
   "cell_type": "code",
   "execution_count": 1,
   "id": "b0467da0",
   "metadata": {},
   "outputs": [
    {
     "name": "stdout",
     "output_type": "stream",
     "text": [
      "hello\n"
     ]
    }
   ],
   "source": [
    "print(\"hello\")"
   ]
  },
  {
   "cell_type": "code",
   "execution_count": 3,
   "id": "f2600adc",
   "metadata": {},
   "outputs": [
    {
     "name": "stdout",
     "output_type": "stream",
     "text": [
      "enter numberankit\n",
      "ankit\n"
     ]
    }
   ],
   "source": [
    "a=input(\"enter number\")\n",
    "print(a)"
   ]
  },
  {
   "cell_type": "code",
   "execution_count": 4,
   "id": "8cc1970c",
   "metadata": {},
   "outputs": [
    {
     "name": "stdout",
     "output_type": "stream",
     "text": [
      "enter number a6\n",
      "enter number b6\n",
      "12\n"
     ]
    }
   ],
   "source": [
    "a=int(input(\"enter number a\"))\n",
    "b=int(input(\"enter number b\"))\n",
    "print(a+b)"
   ]
  },
  {
   "cell_type": "code",
   "execution_count": 5,
   "id": "dd492eae",
   "metadata": {},
   "outputs": [
    {
     "name": "stdout",
     "output_type": "stream",
     "text": [
      "hello ankit\n"
     ]
    }
   ],
   "source": [
    "name=\"ankit\"\n",
    "print(\"hello\",name)"
   ]
  },
  {
   "cell_type": "code",
   "execution_count": 6,
   "id": "23b612a2",
   "metadata": {},
   "outputs": [
    {
     "name": "stdout",
     "output_type": "stream",
     "text": [
      "vfevfeve\n",
      "vefvfev\n",
      "verve\n",
      "fveve\n",
      "\n"
     ]
    }
   ],
   "source": [
    "#use triple '''''' this to use multi line string (python interprate line by line)\n",
    "\n",
    "name='''vfevfeve\n",
    "vefvfev\n",
    "verve\n",
    "fveve\n",
    "'''\n",
    "print(name)"
   ]
  },
  {
   "cell_type": "code",
   "execution_count": 1,
   "id": "170cf0e3",
   "metadata": {},
   "outputs": [
    {
     "name": "stdout",
     "output_type": "stream",
     "text": [
      "a\n",
      "n\n",
      "k\n",
      "i\n",
      "t\n",
      "\n",
      "\n",
      "y\n",
      "a\n",
      "d\n",
      "a\n",
      "v\n",
      "\n",
      "\n",
      "h\n",
      "v\n",
      "j\n",
      "f\n",
      "f\n",
      "\n",
      "\n",
      "f\n",
      "f\n"
     ]
    }
   ],
   "source": [
    "#use of for loop\n",
    "name='''ankit\n",
    "yadav\n",
    "hvjff\n",
    "ff'''\n",
    "for a in name:\n",
    "    print(a)"
   ]
  },
  {
   "cell_type": "code",
   "execution_count": 2,
   "id": "46e5d2f2",
   "metadata": {},
   "outputs": [
    {
     "name": "stdout",
     "output_type": "stream",
     "text": [
      "enter the x0\n",
      "hello\n"
     ]
    }
   ],
   "source": [
    "#switch case\n",
    "x=int(input(\"enter the x\"))\n",
    "match x:\n",
    "    case 0:\n",
    "        print(\"hello\")\n",
    "    case 3: \n",
    "        print(\"df\")\n"
   ]
  },
  {
   "cell_type": "code",
   "execution_count": 3,
   "id": "bf6745f8",
   "metadata": {},
   "outputs": [
    {
     "name": "stdout",
     "output_type": "stream",
     "text": [
      "a\n",
      "n\n",
      "k\n",
      "i\n",
      "r\n",
      "t\n"
     ]
    }
   ],
   "source": [
    "#string  for loop use\n",
    "name=\"ankirt\"\n",
    "for i in name:\n",
    "    print(i)"
   ]
  },
  {
   "cell_type": "code",
   "execution_count": 4,
   "id": "7e351cb7",
   "metadata": {},
   "outputs": [
    {
     "name": "stdout",
     "output_type": "stream",
     "text": [
      "abs\n",
      "looop\n",
      "dkdkfj\n"
     ]
    }
   ],
   "source": [
    "name=[\"abs\",\"looop\",\"dkdkfj\"]\n",
    "for i in name:\n",
    "    print(i)"
   ]
  },
  {
   "cell_type": "code",
   "execution_count": 5,
   "id": "51a8ff58",
   "metadata": {},
   "outputs": [
    {
     "name": "stdout",
     "output_type": "stream",
     "text": [
      "abs\n",
      "a\n",
      "b\n",
      "s\n",
      "looop\n",
      "l\n",
      "o\n",
      "o\n",
      "o\n",
      "p\n",
      "dkdkfj\n",
      "d\n",
      "k\n",
      "d\n",
      "k\n",
      "f\n",
      "j\n"
     ]
    }
   ],
   "source": [
    "name=[\"abs\",\"looop\",\"dkdkfj\"]\n",
    "for i in name:\n",
    "    print(i)\n",
    "    for c in i:\n",
    "        print(c)"
   ]
  },
  {
   "cell_type": "code",
   "execution_count": 10,
   "id": "de48a377",
   "metadata": {},
   "outputs": [
    {
     "name": "stdout",
     "output_type": "stream",
     "text": [
      "1\n",
      "3\n",
      "4\n",
      "5\n",
      "6\n",
      "7\n"
     ]
    }
   ],
   "source": [
    "from array import*\n",
    "var=array('i',[1,3,4,5,6,7])\n",
    "for i in range(0,len(var)):\n",
    "    print(var[i])"
   ]
  },
  {
   "cell_type": "code",
   "execution_count": 72,
   "id": "9b8d80b7",
   "metadata": {},
   "outputs": [
    {
     "name": "stdout",
     "output_type": "stream",
     "text": [
      "eleemnt found\n",
      "eleemnt found\n"
     ]
    }
   ],
   "source": [
    "a=[1,3,5,6,78,5,4]\n",
    "b=5\n",
    "c=0\n",
    "for i in a:\n",
    "    if(i==b):\n",
    "        print(\"eleemnt found\")\n",
    "        c=c+1\n",
    "        \n",
    "    \n",
    "    elif(c==8):\n",
    "        print(\"not found\")\n"
   ]
  },
  {
   "cell_type": "code",
   "execution_count": 49,
   "id": "7202a378",
   "metadata": {},
   "outputs": [
    {
     "name": "stdout",
     "output_type": "stream",
     "text": [
      "1\n"
     ]
    }
   ],
   "source": [
    "def re(a):\n",
    "    if a==0|a==1:\n",
    "        return a\n",
    "    elif(a>0):\n",
    "        return(a*re(a-1))\n",
    "b=1\n",
    "print(re(b))"
   ]
  },
  {
   "cell_type": "code",
   "execution_count": 70,
   "id": "360b9db9",
   "metadata": {},
   "outputs": [
    {
     "name": "stdout",
     "output_type": "stream",
     "text": [
      "A\n",
      "BB\n",
      "CCC\n"
     ]
    }
   ],
   "source": [
    "#pattern in python\n",
    "for i in range(0,3):\n",
    "    for j in range(0,i+1):\n",
    "        if i==0:\n",
    "            print('A', end = '')\n",
    "        elif i==1:\n",
    "             print('B', end = '')\n",
    "        else:\n",
    "             print('C', end = '')\n",
    "    print()"
   ]
  },
  {
   "cell_type": "code",
   "execution_count": 1,
   "id": "e986a16f",
   "metadata": {},
   "outputs": [],
   "source": [
    "# {} this bracket is use to take vaulue from any plACE\n"
   ]
  },
  {
   "cell_type": "code",
   "execution_count": 2,
   "id": "68981e71",
   "metadata": {},
   "outputs": [
    {
     "name": "stdout",
     "output_type": "stream",
     "text": [
      "The array after sorting in Ascending Order by selection sort is:\n",
      "[-202, -97, -9, -2, 0, 11, 45, 88, 747]\n"
     ]
    }
   ],
   "source": [
    "\n",
    "def selectionSort(array, size):\n",
    "\n",
    "\tfor ind in range(size):\n",
    "\t\tmin_index = ind\n",
    "\n",
    "\t\tfor j in range(ind + 1, size):\n",
    "\n",
    "\t\t\tif array[j] < array[min_index]:\n",
    "\t\t\t\tmin_index = j\n",
    "\n",
    "\t\t(array[ind], array[min_index]) = (array[min_index], array[ind])\n",
    "\n",
    "arr = [-2, 45, 0, 11, -9,88,-97,-202,747]\n",
    "size = len(arr)\n",
    "selectionSort(arr, size)\n",
    "print('The array after sorting in Ascending Order by selection sort is:')\n",
    "print(arr)\n"
   ]
  },
  {
   "cell_type": "code",
   "execution_count": 3,
   "id": "68e54719",
   "metadata": {},
   "outputs": [],
   "source": [
    "#F U N C T I O N\n",
    "#RETURN VALUE\n",
    "#>>>>MAKING AN ARGUMNET OPTIONAL"
   ]
  },
  {
   "cell_type": "code",
   "execution_count": 14,
   "id": "50a3f6ed",
   "metadata": {},
   "outputs": [
    {
     "name": "stdout",
     "output_type": "stream",
     "text": [
      "Ankit Yadav\n"
     ]
    }
   ],
   "source": [
    "def name(full,mid,last=\"\"):\n",
    "    if last:\n",
    "        full=f\"{full} {mid} {last}\"\n",
    "    else:\n",
    "        full=f\"{full} {mid}\"\n",
    "    return full.title()\n",
    "mg=name(\"ankit\",\"yadav\")\n",
    "print(mg)\n",
    "\n"
   ]
  },
  {
   "cell_type": "code",
   "execution_count": 25,
   "id": "a3700fa0",
   "metadata": {},
   "outputs": [
    {
     "name": "stdout",
     "output_type": "stream",
     "text": [
      "5.5\n"
     ]
    }
   ],
   "source": [
    "#AVERAGE\n",
    "def average(*n):#it is the case of the tupple\n",
    "    #n means i in tupple\n",
    "    sum=0\n",
    "    for i in n:\n",
    "        sum=sum+i\n",
    "    print(sum/len(n))\n",
    "average(5,6)"
   ]
  },
  {
   "cell_type": "code",
   "execution_count": 37,
   "id": "47d0b403",
   "metadata": {},
   "outputs": [
    {
     "name": "stdout",
     "output_type": "stream",
     "text": [
      "36\n",
      "hello brother\n"
     ]
    }
   ],
   "source": [
    "#use of Docstring\n",
    "#To make a valid string always put below the fuction def keyword otherwise it become invalid#\n",
    "#WRONG METHOD\n",
    "'''def square(n):\n",
    "    print(n*n)\n",
    "    '''  '''hello brother''''''\n",
    "square(6)    \n",
    "print(square.__doc__)'''\n",
    "#this are invalid Doc string program\n",
    "\n",
    "\n",
    "\n",
    "\n",
    "\n",
    "def square(n):\n",
    "    '''hello brother'''\n",
    "  \n",
    "    print(n*n)\n",
    "square(6)    \n",
    "print(square.__doc__)"
   ]
  },
  {
   "cell_type": "code",
   "execution_count": null,
   "id": "ae0e0933",
   "metadata": {},
   "outputs": [],
   "source": []
  }
 ],
 "metadata": {
  "kernelspec": {
   "display_name": "Python 3 (ipykernel)",
   "language": "python",
   "name": "python3"
  },
  "language_info": {
   "codemirror_mode": {
    "name": "ipython",
    "version": 3
   },
   "file_extension": ".py",
   "mimetype": "text/x-python",
   "name": "python",
   "nbconvert_exporter": "python",
   "pygments_lexer": "ipython3",
   "version": "3.10.9"
  }
 },
 "nbformat": 4,
 "nbformat_minor": 5
}
