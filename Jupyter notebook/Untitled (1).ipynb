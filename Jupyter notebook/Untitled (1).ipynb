{
 "cells": [
  {
   "cell_type": "code",
   "execution_count": 6,
   "id": "b0326ebc",
   "metadata": {},
   "outputs": [
    {
     "name": "stdout",
     "output_type": "stream",
     "text": [
      "the value between 5 and 96\n"
     ]
    },
    {
     "ename": "ValueError",
     "evalue": "input corect",
     "output_type": "error",
     "traceback": [
      "\u001b[1;31m---------------------------------------------------------------------------\u001b[0m",
      "\u001b[1;31mValueError\u001b[0m                                Traceback (most recent call last)",
      "Cell \u001b[1;32mIn[6], line 3\u001b[0m\n\u001b[0;32m      1\u001b[0m a\u001b[38;5;241m=\u001b[39m\u001b[38;5;28mint\u001b[39m(\u001b[38;5;28minput\u001b[39m(\u001b[38;5;124m\"\u001b[39m\u001b[38;5;124mthe value between 5 and 9\u001b[39m\u001b[38;5;124m\"\u001b[39m))\n\u001b[0;32m      2\u001b[0m \u001b[38;5;28;01mif\u001b[39;00m(\u001b[38;5;241m5\u001b[39m\u001b[38;5;241m<\u001b[39ma\u001b[38;5;241m<\u001b[39m\u001b[38;5;241m9\u001b[39m):\n\u001b[1;32m----> 3\u001b[0m     \u001b[38;5;28;01mraise\u001b[39;00m \u001b[38;5;167;01mValueError\u001b[39;00m(\u001b[38;5;124m\"\u001b[39m\u001b[38;5;124minput corect\u001b[39m\u001b[38;5;124m\"\u001b[39m)\n",
      "\u001b[1;31mValueError\u001b[0m: input corect"
     ]
    }
   ],
   "source": [
    "a=int(input(\"the value between 5 and 9\"))\n",
    "if(5<a<9):\n",
    "    raise ValueError(\"input corect\")\n"
   ]
  },
  {
   "cell_type": "code",
   "execution_count": null,
   "id": "207d3d43",
   "metadata": {},
   "outputs": [],
   "source": [
    "print(\"hello\")"
   ]
  },
  {
   "cell_type": "code",
   "execution_count": null,
   "id": "028a1eae",
   "metadata": {},
   "outputs": [],
   "source": [
    "arr=[1,3,5,6]\n",
    "target=11\n",
    "for i in range(0,len(arr)):\n",
    "    for j in range(0,len(arr)):\n",
    "        if(arr[i]+arr[j]==target):\n",
    "                   \n",
    "            print([i,j])\n",
    "           \n",
    "          \n",
    "\n",
    "\n",
    "       \n"
   ]
  },
  {
   "cell_type": "code",
   "execution_count": null,
   "id": "cddeaec6",
   "metadata": {},
   "outputs": [],
   "source": [
    "arr=[1,3,5,6]\n",
    "target=11\n",
    "j=0\n",
    "for i in range(0,len(arr)):\n",
    "    while(j<=len(arr)):\n",
    "        if(arr[i]+arr[j]==target):          print([i,j])\n",
    "            \n",
    "\n",
    "\n",
    "\n",
    "\n",
    "       \n"
   ]
  },
  {
   "cell_type": "code",
   "execution_count": null,
   "id": "e6645297",
   "metadata": {},
   "outputs": [],
   "source": []
  }
 ],
 "metadata": {
  "kernelspec": {
   "display_name": "Python 3 (ipykernel)",
   "language": "python",
   "name": "python3"
  },
  "language_info": {
   "codemirror_mode": {
    "name": "ipython",
    "version": 3
   },
   "file_extension": ".py",
   "mimetype": "text/x-python",
   "name": "python",
   "nbconvert_exporter": "python",
   "pygments_lexer": "ipython3",
   "version": "3.10.9"
  }
 },
 "nbformat": 4,
 "nbformat_minor": 5
}
